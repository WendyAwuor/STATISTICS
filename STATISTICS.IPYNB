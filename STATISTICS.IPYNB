{
 "cells": [
  {
   "cell_type": "code",
   "execution_count": 38,
   "id": "8ad12cac",
   "metadata": {},
   "outputs": [],
   "source": [
    "import pandas as pd \n",
    "import numpy as np\n",
    "from scipy import stats \n",
    "import statsmodels.api as sm\n",
    "from statsmodels.formula.api import ols\n",
    "##import warnings warnings.filterwarnings('ignore')"
   ]
  },
  {
   "cell_type": "code",
   "execution_count": 39,
   "id": "375f3874",
   "metadata": {},
   "outputs": [
    {
     "name": "stdout",
     "output_type": "stream",
     "text": [
      "Requirement already satisfied: pytest-warnings in c:\\users\\hp\\anaconda3\\lib\\site-packages (0.3.1)\n",
      "Requirement already satisfied: pytest in c:\\users\\hp\\anaconda3\\lib\\site-packages (from pytest-warnings) (7.4.4)\n",
      "Requirement already satisfied: iniconfig in c:\\users\\hp\\anaconda3\\lib\\site-packages (from pytest->pytest-warnings) (1.1.1)\n",
      "Requirement already satisfied: packaging in c:\\users\\hp\\anaconda3\\lib\\site-packages (from pytest->pytest-warnings) (24.1)\n",
      "Requirement already satisfied: pluggy<2.0,>=0.12 in c:\\users\\hp\\anaconda3\\lib\\site-packages (from pytest->pytest-warnings) (1.0.0)\n",
      "Requirement already satisfied: colorama in c:\\users\\hp\\anaconda3\\lib\\site-packages (from pytest->pytest-warnings) (0.4.6)\n",
      "Note: you may need to restart the kernel to use updated packages.\n"
     ]
    }
   ],
   "source": [
    "pip install pytest-warnings"
   ]
  },
  {
   "cell_type": "code",
   "execution_count": 57,
   "id": "87d60524",
   "metadata": {},
   "outputs": [],
   "source": [
    "import numpy as np\n",
    "import matplotlib.pyplot as plt\n",
    "from scipy.stats import ttest_1samp\n",
    "from scipy.stats import f_oneway ##one way ANOVA\n",
    "from scipy.stats import chi2_contingency\n",
    "from scipy.stats import chisquare\n",
    "from scipy.stats import norm\n",
    "from scipy.stats import ttest_ind\n",
    "from scipy.stats import ttest_rel"
   ]
  },
  {
   "cell_type": "code",
   "execution_count": 41,
   "id": "00d67ffd",
   "metadata": {},
   "outputs": [
    {
     "data": {
      "text/html": [
       "<div>\n",
       "<style scoped>\n",
       "    .dataframe tbody tr th:only-of-type {\n",
       "        vertical-align: middle;\n",
       "    }\n",
       "\n",
       "    .dataframe tbody tr th {\n",
       "        vertical-align: top;\n",
       "    }\n",
       "\n",
       "    .dataframe thead th {\n",
       "        text-align: right;\n",
       "    }\n",
       "</style>\n",
       "<table border=\"1\" class=\"dataframe\">\n",
       "  <thead>\n",
       "    <tr style=\"text-align: right;\">\n",
       "      <th></th>\n",
       "      <th>Id</th>\n",
       "      <th>SepalLengthCm</th>\n",
       "      <th>SepalWidthCm</th>\n",
       "      <th>PetalLengthCm</th>\n",
       "      <th>PetalWidthCm</th>\n",
       "      <th>Species</th>\n",
       "    </tr>\n",
       "  </thead>\n",
       "  <tbody>\n",
       "    <tr>\n",
       "      <th>0</th>\n",
       "      <td>1</td>\n",
       "      <td>5.1</td>\n",
       "      <td>3.5</td>\n",
       "      <td>1.4</td>\n",
       "      <td>0.2</td>\n",
       "      <td>Iris-setosa</td>\n",
       "    </tr>\n",
       "    <tr>\n",
       "      <th>1</th>\n",
       "      <td>2</td>\n",
       "      <td>4.9</td>\n",
       "      <td>3.0</td>\n",
       "      <td>1.4</td>\n",
       "      <td>0.2</td>\n",
       "      <td>Iris-setosa</td>\n",
       "    </tr>\n",
       "    <tr>\n",
       "      <th>2</th>\n",
       "      <td>3</td>\n",
       "      <td>4.7</td>\n",
       "      <td>3.2</td>\n",
       "      <td>1.3</td>\n",
       "      <td>0.2</td>\n",
       "      <td>Iris-setosa</td>\n",
       "    </tr>\n",
       "    <tr>\n",
       "      <th>3</th>\n",
       "      <td>4</td>\n",
       "      <td>4.6</td>\n",
       "      <td>3.1</td>\n",
       "      <td>1.5</td>\n",
       "      <td>0.2</td>\n",
       "      <td>Iris-setosa</td>\n",
       "    </tr>\n",
       "    <tr>\n",
       "      <th>4</th>\n",
       "      <td>5</td>\n",
       "      <td>5.0</td>\n",
       "      <td>3.6</td>\n",
       "      <td>1.4</td>\n",
       "      <td>0.2</td>\n",
       "      <td>Iris-setosa</td>\n",
       "    </tr>\n",
       "  </tbody>\n",
       "</table>\n",
       "</div>"
      ],
      "text/plain": [
       "   Id  SepalLengthCm  SepalWidthCm  PetalLengthCm  PetalWidthCm      Species\n",
       "0   1            5.1           3.5            1.4           0.2  Iris-setosa\n",
       "1   2            4.9           3.0            1.4           0.2  Iris-setosa\n",
       "2   3            4.7           3.2            1.3           0.2  Iris-setosa\n",
       "3   4            4.6           3.1            1.5           0.2  Iris-setosa\n",
       "4   5            5.0           3.6            1.4           0.2  Iris-setosa"
      ]
     },
     "execution_count": 41,
     "metadata": {},
     "output_type": "execute_result"
    }
   ],
   "source": [
    "#Read csv and display the first 30 rows\n",
    "import pandas as pd\n",
    "iris= pd.read_csv('./Iris.csv')\n",
    "count = len(iris)\n",
    "iris.head(5)"
   ]
  },
  {
   "cell_type": "markdown",
   "id": "ee7943f7",
   "metadata": {},
   "source": [
    "Question 1: One-sample t-test on Iris dataset Task: Load the Iris dataset and test if the mean sepal length of Iris-setosa is equal to 5.0. iris = pd.read_csv('iris.csv') setosa_sepal_length = iris[iris['Species'] == 'Iris-setosa']['SepalLengthCm']"
   ]
  },
  {
   "cell_type": "markdown",
   "id": "2984ec8c",
   "metadata": {},
   "source": [
    "Fill in: Perform one-sample t-test\n",
    "Q1: Is the mean sepal length significantly different from 5.0? (Answer: p < 0.05, so yes/no) "
   ]
  },
  {
   "cell_type": "code",
   "execution_count": 42,
   "id": "62c4048a",
   "metadata": {},
   "outputs": [
    {
     "name": "stdout",
     "output_type": "stream",
     "text": [
      "0.12036212238318053\n",
      "0.9046884777690936\n",
      "we fail to reject the null hypothesis which isthe mean sepal legnth for setosa is equal 5.0\n"
     ]
    }
   ],
   "source": [
    "alternative_hypothesis = \"the mean sepal legnth for setosa is not 5.0\"\n",
    "null_hypothesis = \"the mean sepal legnth for setosa is equal 5.0\"\n",
    "\n",
    "##iris\n",
    "setosa_sepal_length = iris[iris['Species'] == 'Iris-setosa']['SepalLengthCm']\n",
    "alpha = 0.05,\n",
    "n = count\n",
    "mu = 5.0\n",
    "\n",
    "t_stats, p_value = ttest_1samp(setosa_sepal_length,mu)\n",
    "print(t_stats)\n",
    "print(p_value)\n",
    "\n",
    "if p_value < alpha:\n",
    "    print(f'reject null hypothesis which is {null_hypothesis}')\n",
    "else:\n",
    "    print(f'we fail to reject the null hypothesis which is{null_hypothesis}')"
   ]
  },
  {
   "cell_type": "markdown",
   "id": "c3e650c9",
   "metadata": {},
   "source": [
    "Question 2: Two-sample t-test on Iris dataset Task: Compare sepal width of Iris-setosa and Iris-versicolor. setosa_sepal_width = iris[iris['Species'] == 'Iris-setosa']['SepalWidthCm'] versicolor_sepal_width = iris[iris['Species'] == 'Iris-versicolor']['SepalWidthCm']"
   ]
  },
  {
   "cell_type": "code",
   "execution_count": 43,
   "id": "af131a0b",
   "metadata": {},
   "outputs": [
    {
     "name": "stdout",
     "output_type": "stream",
     "text": [
      "t-statistic: 9.282772555558111\n",
      "p-value: 4.362239016010214e-15\n",
      "reject null hypothesis which is the mean sepal width for setosa is equal to versicolor sepal width\n"
     ]
    }
   ],
   "source": [
    "alternative_hypothesis = \"the mean sepal width for setosa is  not equal to versicolor sepal width\"\n",
    "null_hypothesis = \"the mean sepal width for setosa is equal to versicolor sepal width\"\n",
    "\n",
    "setosa_sepal_width = iris[iris['Species'] == 'Iris-setosa']['SepalWidthCm'] \n",
    "versicolor_sepal_width = iris[iris['Species'] == 'Iris-versicolor']['SepalWidthCm']\n",
    "\n",
    "# Perform two-sample t-test (assume equal variances)\n",
    "t_stat, p_value = stats.ttest_ind(setosa_sepal_width, versicolor_sepal_width, equal_var=True)\n",
    "print(\"t-statistic:\", t_stat)\n",
    "print(\"p-value:\", p_value)\n",
    "\n",
    "if p_value < alpha:\n",
    "    print(f'reject null hypothesis which is {null_hypothesis}')\n",
    "else:\n",
    "    print(f'we fail to reject the null hypothesis which is{null_hypothesis}')"
   ]
  },
  {
   "cell_type": "markdown",
   "id": "21ace4ae",
   "metadata": {},
   "source": [
    "Question 3: One-way ANOVA on Iris dataset Task: Test if petal length differs across all three Iris species.\n",
    "\n",
    "Fill in: Perform one-way ANOVA\n",
    "Q3: Is there a significant difference in petal length across species? (Answer: p < 0.05, so yes/no) "
   ]
  },
  {
   "cell_type": "code",
   "execution_count": 44,
   "id": "27ea51cd",
   "metadata": {},
   "outputs": [
    {
     "name": "stdout",
     "output_type": "stream",
     "text": [
      "F-statistic: 1179.0343277002194\n",
      "p-value: 3.0519758018278374e-91\n",
      "Reject the null hypothesis which is There is no significant difference between the the mean of the petal legnths \n"
     ]
    }
   ],
   "source": [
    "alternative_hypothesis = 'There is a significant difference between the the mean of the petal legnths'\n",
    "null_hypothesis = 'There is no significant difference between the the mean of the petal legnths'\n",
    "\n",
    "setosa_petal_length = iris[iris['Species'] == 'Iris-setosa']['PetalLengthCm']\n",
    "versicolor_petal_length = iris[iris['Species'] == 'Iris-versicolor']['PetalLengthCm']\n",
    "virginica_petal_length = iris[iris['Species'] == 'Iris-virginica']['PetalLengthCm']\n",
    "\n",
    "f_stat, p_value = f_oneway(setosa_petal_length,versicolor_petal_length , virginica_petal_length)\n",
    "print(\"F-statistic:\", f_stat)\n",
    "print(\"p-value:\", p_value)\n",
    "\n",
    "if p_value < 0.05:\n",
    "    print(f'Reject the null hypothesis which is {null_hypothesis} ')\n",
    "else:\n",
    "    print(f'Fail to reject the null hypothesis which is {null_hypothesis}')\n"
   ]
  },
  {
   "cell_type": "markdown",
   "id": "3510d734",
   "metadata": {},
   "source": [
    "Question 4: Chi-square test on Titanic dataset Task: Load the Titanic dataset and test if survival is independent of passenger class (Pclass). titanic = pd.read_csv('titanic.csv') contingency_table = pd.crosstab(titanic['Survived'], titanic['Pclass'])\n",
    "\n",
    "Fill in: Perform chi-square test\n",
    "Q4: Is survival independent of passenger class? (Answer: p < 0.05, so yes/no)"
   ]
  },
  {
   "cell_type": "code",
   "execution_count": 45,
   "id": "191e50a7",
   "metadata": {},
   "outputs": [
    {
     "data": {
      "text/html": [
       "<div>\n",
       "<style scoped>\n",
       "    .dataframe tbody tr th:only-of-type {\n",
       "        vertical-align: middle;\n",
       "    }\n",
       "\n",
       "    .dataframe tbody tr th {\n",
       "        vertical-align: top;\n",
       "    }\n",
       "\n",
       "    .dataframe thead th {\n",
       "        text-align: right;\n",
       "    }\n",
       "</style>\n",
       "<table border=\"1\" class=\"dataframe\">\n",
       "  <thead>\n",
       "    <tr style=\"text-align: right;\">\n",
       "      <th></th>\n",
       "      <th>PassengerId</th>\n",
       "      <th>Survived</th>\n",
       "      <th>Pclass</th>\n",
       "      <th>Name</th>\n",
       "      <th>Sex</th>\n",
       "      <th>Age</th>\n",
       "      <th>SibSp</th>\n",
       "      <th>Parch</th>\n",
       "      <th>Ticket</th>\n",
       "      <th>Fare</th>\n",
       "      <th>Cabin</th>\n",
       "      <th>Embarked</th>\n",
       "    </tr>\n",
       "  </thead>\n",
       "  <tbody>\n",
       "    <tr>\n",
       "      <th>0</th>\n",
       "      <td>892</td>\n",
       "      <td>0</td>\n",
       "      <td>3</td>\n",
       "      <td>Kelly, Mr. James</td>\n",
       "      <td>male</td>\n",
       "      <td>34.5</td>\n",
       "      <td>0</td>\n",
       "      <td>0</td>\n",
       "      <td>330911</td>\n",
       "      <td>7.8292</td>\n",
       "      <td>NaN</td>\n",
       "      <td>Q</td>\n",
       "    </tr>\n",
       "    <tr>\n",
       "      <th>1</th>\n",
       "      <td>893</td>\n",
       "      <td>1</td>\n",
       "      <td>3</td>\n",
       "      <td>Wilkes, Mrs. James (Ellen Needs)</td>\n",
       "      <td>female</td>\n",
       "      <td>47.0</td>\n",
       "      <td>1</td>\n",
       "      <td>0</td>\n",
       "      <td>363272</td>\n",
       "      <td>7.0000</td>\n",
       "      <td>NaN</td>\n",
       "      <td>S</td>\n",
       "    </tr>\n",
       "    <tr>\n",
       "      <th>2</th>\n",
       "      <td>894</td>\n",
       "      <td>0</td>\n",
       "      <td>2</td>\n",
       "      <td>Myles, Mr. Thomas Francis</td>\n",
       "      <td>male</td>\n",
       "      <td>62.0</td>\n",
       "      <td>0</td>\n",
       "      <td>0</td>\n",
       "      <td>240276</td>\n",
       "      <td>9.6875</td>\n",
       "      <td>NaN</td>\n",
       "      <td>Q</td>\n",
       "    </tr>\n",
       "    <tr>\n",
       "      <th>3</th>\n",
       "      <td>895</td>\n",
       "      <td>0</td>\n",
       "      <td>3</td>\n",
       "      <td>Wirz, Mr. Albert</td>\n",
       "      <td>male</td>\n",
       "      <td>27.0</td>\n",
       "      <td>0</td>\n",
       "      <td>0</td>\n",
       "      <td>315154</td>\n",
       "      <td>8.6625</td>\n",
       "      <td>NaN</td>\n",
       "      <td>S</td>\n",
       "    </tr>\n",
       "    <tr>\n",
       "      <th>4</th>\n",
       "      <td>896</td>\n",
       "      <td>1</td>\n",
       "      <td>3</td>\n",
       "      <td>Hirvonen, Mrs. Alexander (Helga E Lindqvist)</td>\n",
       "      <td>female</td>\n",
       "      <td>22.0</td>\n",
       "      <td>1</td>\n",
       "      <td>1</td>\n",
       "      <td>3101298</td>\n",
       "      <td>12.2875</td>\n",
       "      <td>NaN</td>\n",
       "      <td>S</td>\n",
       "    </tr>\n",
       "  </tbody>\n",
       "</table>\n",
       "</div>"
      ],
      "text/plain": [
       "   PassengerId  Survived  Pclass  \\\n",
       "0          892         0       3   \n",
       "1          893         1       3   \n",
       "2          894         0       2   \n",
       "3          895         0       3   \n",
       "4          896         1       3   \n",
       "\n",
       "                                           Name     Sex   Age  SibSp  Parch  \\\n",
       "0                              Kelly, Mr. James    male  34.5      0      0   \n",
       "1              Wilkes, Mrs. James (Ellen Needs)  female  47.0      1      0   \n",
       "2                     Myles, Mr. Thomas Francis    male  62.0      0      0   \n",
       "3                              Wirz, Mr. Albert    male  27.0      0      0   \n",
       "4  Hirvonen, Mrs. Alexander (Helga E Lindqvist)  female  22.0      1      1   \n",
       "\n",
       "    Ticket     Fare Cabin Embarked  \n",
       "0   330911   7.8292   NaN        Q  \n",
       "1   363272   7.0000   NaN        S  \n",
       "2   240276   9.6875   NaN        Q  \n",
       "3   315154   8.6625   NaN        S  \n",
       "4  3101298  12.2875   NaN        S  "
      ]
     },
     "execution_count": 45,
     "metadata": {},
     "output_type": "execute_result"
    }
   ],
   "source": [
    "#Read csv and display the first 30 rows\n",
    "import pandas as pd\n",
    "titanic= pd.read_csv('./tested.csv')\n",
    "count = len(titanic)\n",
    "titanic.head(5)"
   ]
  },
  {
   "cell_type": "code",
   "execution_count": 46,
   "id": "5c0db5d1",
   "metadata": {},
   "outputs": [
    {
     "name": "stdout",
     "output_type": "stream",
     "text": [
      "Chi-square Statistic: 6.693869422819262\n",
      "Degrees of Freedom: 2\n",
      "Expected Frequencies:\n",
      " [[ 68.09090909  59.18181818 138.72727273]\n",
      " [ 38.90909091  33.81818182  79.27272727]]\n",
      "P-value: 0.03519206276590605\n",
      "Reject the null hypothesis which is There is no significant relationship between survival and passenger class  \n"
     ]
    }
   ],
   "source": [
    "alternative_hypothesis = 'There is a significant relationship between survival and passenger class'\n",
    "null_hypothesis = 'There is no significant relationship between survival and passenger class '\n",
    "\n",
    "contingency_table = pd.crosstab(titanic['Survived'], titanic['Pclass'])\n",
    "\n",
    "##chi square test of independence\n",
    "chi2, p, dof, expected = chi2_contingency(contingency_table)\n",
    "print(\"Chi-square Statistic:\", chi2)\n",
    "print(\"Degrees of Freedom:\", dof)\n",
    "print(\"Expected Frequencies:\\n\", expected)\n",
    "print(\"P-value:\", p)\n",
    "\n",
    "\n",
    "if p < 0.05:\n",
    "    print(f'Reject the null hypothesis which is {null_hypothesis} ')\n",
    "else:\n",
    "    print(f'Fail to reject the null hypothesis which {null_hypothesis}')\n"
   ]
  },
  {
   "cell_type": "markdown",
   "id": "30211f97",
   "metadata": {},
   "source": [
    "Question 5: One-sample z-test on Titanic dataset Task: Test if the mean age of passengers is equal to 30 (assume population std = 14.5).\n",
    "\n",
    "Fill in: Perform one-sample z-test\n",
    "Q5: Is the mean age significantly different from 30? (Answer: p < 0.05, so yes/no) "
   ]
  },
  {
   "cell_type": "code",
   "execution_count": 47,
   "id": "1dcf857c",
   "metadata": {},
   "outputs": [
    {
     "name": "stdout",
     "output_type": "stream",
     "text": [
      "0.0\n",
      "0.5\n",
      "we fail to reject the null hypothesis which is mean age of passengers is not equal to 30\n"
     ]
    }
   ],
   "source": [
    "alternative_hypothesis = 'mean age of passengers is equal to 30'\n",
    "null_hypothesis = 'mean age of passengers is not equal to 30'\n",
    "\n",
    "x_bar = 30 #sample mean\n",
    "n = 418 ##number of passengers\n",
    "sigma = 14.5 #sd of population\n",
    "mu = 30 #population mean\n",
    "alpha = 0.05\n",
    "z = (x_bar - mu)/(sigma/np.sqrt(n))\n",
    "print(z)\n",
    "\n",
    "p_value = norm.cdf(z)\n",
    "print(p_value)\n",
    "if p_value <alpha:\n",
    "    print(f'reject null hypothesis which is {null_hypothesis}')\n",
    "else:\n",
    "    print(f'we fail to reject the null hypothesis which is {null_hypothesis}')\n"
   ]
  },
  {
   "cell_type": "markdown",
   "id": "40728c68",
   "metadata": {},
   "source": [
    "Question 6: Independent t-test on Titanic dataset Task: Compare mean age of male vs. female passengers. male_age = titanic[titanic['Sex'] == 'male']['Age'].dropna() female_age = titanic[titanic['Sex'] == 'female']['Age'].dropna()\n",
    "\n",
    "Fill in: Perform independent t-test\n",
    "Q6: Are the mean ages significantly different? (Answer: p < 0.05, so yes/no) "
   ]
  },
  {
   "cell_type": "code",
   "execution_count": 48,
   "id": "e82a1b05",
   "metadata": {},
   "outputs": [
    {
     "name": "stdout",
     "output_type": "stream",
     "text": [
      "t-statistic: 0.000230386457754343\n",
      "p-value: 0.9998163174099579\n",
      "we fail to reject the null hypothesis which is the mean ages for male and female are significantly different\n"
     ]
    }
   ],
   "source": [
    "alternative_hypothesis = \"the mean ages for male and female are significantly different\"\n",
    "null_hypothesis = \"the mean ages for male and female are significantly different\"\n",
    "\n",
    "male_age = titanic[titanic['Sex'] == 'male']['Age'].dropna()\n",
    "female_age = titanic[titanic['Sex'] == 'female']['Age'].dropna()\n",
    "\n",
    "# Perform two-sample t-test (assume equal variances)\n",
    "t_stat, p_value = stats.ttest_ind(male_age, female_age, equal_var=True)\n",
    "print(\"t-statistic:\", t_stat)\n",
    "print(\"p-value:\", p_value)\n",
    "\n",
    "if p_value < alpha:\n",
    "    print(f'reject null hypothesis which is {null_hypothesis}')\n",
    "else:\n",
    "    print(f'we fail to reject the null hypothesis which is {null_hypothesis}')"
   ]
  },
  {
   "cell_type": "markdown",
   "id": "0f6a6fdd",
   "metadata": {},
   "source": [
    "Question 7: One-way ANOVA on Titanic dataset Task: Test if fare differs across passenger classes (Pclass).\n",
    "\n",
    "Fill in: Perform one-way ANOVA\n",
    "Q7: Is there a significant difference in fare across classes? (Answer: p < 0.05, so yes/no) "
   ]
  },
  {
   "cell_type": "code",
   "execution_count": 49,
   "id": "89460189",
   "metadata": {},
   "outputs": [
    {
     "name": "stdout",
     "output_type": "stream",
     "text": [
      "F-statistic: nan\n",
      "p-value: nan\n",
      "Fail to reject the null hypothesis which is There is no significant difference in fare across classes\n"
     ]
    },
    {
     "name": "stderr",
     "output_type": "stream",
     "text": [
      "c:\\Users\\hp\\anaconda3\\Lib\\site-packages\\scipy\\stats\\_stats_py.py:4102: DegenerateDataWarning: at least one input has length 0\n",
      "  if _f_oneway_is_too_small(samples):\n"
     ]
    }
   ],
   "source": [
    "alternative_hypothesis = 'There is a significant difference in fare across classes'\n",
    "null_hypothesis = 'There is no significant difference in fare across classes'\n",
    "\n",
    "fare_class_1 = titanic[titanic['Pclass'] == '1']['Fare'].dropna()\n",
    "fare_class_2 = titanic[titanic['Pclass'] == '2']['Fare'].dropna()\n",
    "fare_class_3 = titanic[titanic['Pclass'] == '3']['Fare'].dropna()\n",
    "f_stat, p_value = f_oneway(fare_class_1,fare_class_2, fare_class_3)\n",
    "print(\"F-statistic:\", f_stat)\n",
    "print(\"p-value:\", p_value)\n",
    "\n",
    "if p_value < 0.05:\n",
    "    print(f'Reject the null hypothesis which is {null_hypothesis} ')\n",
    "else:\n",
    "    print(f'Fail to reject the null hypothesis which is {null_hypothesis}')\n"
   ]
  },
  {
   "cell_type": "markdown",
   "id": "3e27fa45",
   "metadata": {},
   "source": [
    "Question 8: Chi-square test on Titanic dataset Task: Test if survival is independent of sex. contingency_table = pd.crosstab(titanic['Survived'], titanic['Sex'])\n",
    "\n",
    "Fill in: Perform chi-square test\n",
    "Q8: Is survival independent of sex? (Answer: p < 0.05, so yes/no) "
   ]
  },
  {
   "cell_type": "code",
   "execution_count": 50,
   "id": "c4a56a65",
   "metadata": {},
   "outputs": [
    {
     "name": "stdout",
     "output_type": "stream",
     "text": [
      "Chi-square Statistic: 413.6897405343716\n",
      "Degrees of Freedom: 1\n",
      "Expected Frequencies:\n",
      " [[ 96.72727273 169.27272727]\n",
      " [ 55.27272727  96.72727273]]\n",
      "P-value: 5.767311139789629e-92\n",
      "Reject the null hypothesis which is There is no significant relationship between survival and sex \n"
     ]
    }
   ],
   "source": [
    "alternative_hypothesis = 'There is a significant relationship between survival and sex'\n",
    "null_hypothesis = 'There is no significant relationship between survival and sex'\n",
    "\n",
    "contingency_table = pd.crosstab(titanic['Survived'], titanic['Sex'])\n",
    "\n",
    "##chi square test of independence\n",
    "chi2, p, dof, expected = chi2_contingency(contingency_table)\n",
    "print(\"Chi-square Statistic:\", chi2)\n",
    "print(\"Degrees of Freedom:\", dof)\n",
    "print(\"Expected Frequencies:\\n\", expected)\n",
    "print(\"P-value:\", p)\n",
    "\n",
    "\n",
    "if p < 0.05:\n",
    "    print(f'Reject the null hypothesis which is {null_hypothesis} ')\n",
    "else:\n",
    "    print(f'Fail to reject the null hypothesis which {null_hypothesis}')"
   ]
  },
  {
   "cell_type": "markdown",
   "id": "1892c7cf",
   "metadata": {},
   "source": [
    " Question 9: Paired t-test on Student Performance dataset Task: Load the Student Performance dataset and test if math score and reading score differ for the same students. students = pd.read_csv('StudentsPerformance.csv')\n",
    "\n",
    "Fill in: Perform paired t-test\n",
    "Q9: Are math and reading scores significantly different? (Answer: p < 0.05, so yes/no) "
   ]
  },
  {
   "cell_type": "code",
   "execution_count": 51,
   "id": "9d3b2f8f",
   "metadata": {},
   "outputs": [
    {
     "data": {
      "text/html": [
       "<div>\n",
       "<style scoped>\n",
       "    .dataframe tbody tr th:only-of-type {\n",
       "        vertical-align: middle;\n",
       "    }\n",
       "\n",
       "    .dataframe tbody tr th {\n",
       "        vertical-align: top;\n",
       "    }\n",
       "\n",
       "    .dataframe thead th {\n",
       "        text-align: right;\n",
       "    }\n",
       "</style>\n",
       "<table border=\"1\" class=\"dataframe\">\n",
       "  <thead>\n",
       "    <tr style=\"text-align: right;\">\n",
       "      <th></th>\n",
       "      <th>gender</th>\n",
       "      <th>race/ethnicity</th>\n",
       "      <th>parental level of education</th>\n",
       "      <th>lunch</th>\n",
       "      <th>test preparation course</th>\n",
       "      <th>math score</th>\n",
       "      <th>reading score</th>\n",
       "      <th>writing score</th>\n",
       "    </tr>\n",
       "  </thead>\n",
       "  <tbody>\n",
       "    <tr>\n",
       "      <th>0</th>\n",
       "      <td>female</td>\n",
       "      <td>group B</td>\n",
       "      <td>bachelor's degree</td>\n",
       "      <td>standard</td>\n",
       "      <td>none</td>\n",
       "      <td>72</td>\n",
       "      <td>72</td>\n",
       "      <td>74</td>\n",
       "    </tr>\n",
       "    <tr>\n",
       "      <th>1</th>\n",
       "      <td>female</td>\n",
       "      <td>group C</td>\n",
       "      <td>some college</td>\n",
       "      <td>standard</td>\n",
       "      <td>completed</td>\n",
       "      <td>69</td>\n",
       "      <td>90</td>\n",
       "      <td>88</td>\n",
       "    </tr>\n",
       "    <tr>\n",
       "      <th>2</th>\n",
       "      <td>female</td>\n",
       "      <td>group B</td>\n",
       "      <td>master's degree</td>\n",
       "      <td>standard</td>\n",
       "      <td>none</td>\n",
       "      <td>90</td>\n",
       "      <td>95</td>\n",
       "      <td>93</td>\n",
       "    </tr>\n",
       "    <tr>\n",
       "      <th>3</th>\n",
       "      <td>male</td>\n",
       "      <td>group A</td>\n",
       "      <td>associate's degree</td>\n",
       "      <td>free/reduced</td>\n",
       "      <td>none</td>\n",
       "      <td>47</td>\n",
       "      <td>57</td>\n",
       "      <td>44</td>\n",
       "    </tr>\n",
       "    <tr>\n",
       "      <th>4</th>\n",
       "      <td>male</td>\n",
       "      <td>group C</td>\n",
       "      <td>some college</td>\n",
       "      <td>standard</td>\n",
       "      <td>none</td>\n",
       "      <td>76</td>\n",
       "      <td>78</td>\n",
       "      <td>75</td>\n",
       "    </tr>\n",
       "  </tbody>\n",
       "</table>\n",
       "</div>"
      ],
      "text/plain": [
       "   gender race/ethnicity parental level of education         lunch  \\\n",
       "0  female        group B           bachelor's degree      standard   \n",
       "1  female        group C                some college      standard   \n",
       "2  female        group B             master's degree      standard   \n",
       "3    male        group A          associate's degree  free/reduced   \n",
       "4    male        group C                some college      standard   \n",
       "\n",
       "  test preparation course  math score  reading score  writing score  \n",
       "0                    none          72             72             74  \n",
       "1               completed          69             90             88  \n",
       "2                    none          90             95             93  \n",
       "3                    none          47             57             44  \n",
       "4                    none          76             78             75  "
      ]
     },
     "execution_count": 51,
     "metadata": {},
     "output_type": "execute_result"
    }
   ],
   "source": [
    "#Read csv and display the first 30 rows\n",
    "import pandas as pd\n",
    "students = pd.read_csv('./StudentsPerformance.csv')\n",
    "count = len(students)\n",
    "students.head(5)"
   ]
  },
  {
   "cell_type": "code",
   "execution_count": 62,
   "id": "613bf02d",
   "metadata": {},
   "outputs": [
    {
     "name": "stdout",
     "output_type": "stream",
     "text": [
      "T-statistic: -10.816230631665421\n",
      "P-value: 7.322335900414138e-26\n",
      "reject null hypothesis which is math and reading scores are significantly different\n"
     ]
    }
   ],
   "source": [
    "alternative_hypothesis = ('math and reading scores are significantly differebt')\n",
    "null_hypothesis = ('math and reading scores are significantly different')\n",
    "\n",
    "math_scores = students['math score']\n",
    "reading_scores = students['reading score']\n",
    "\n",
    "# Perform paired t-test\n",
    "t_stat, p_value = ttest_rel(math_scores, reading_scores)\n",
    "\n",
    "print(\"T-statistic:\", t_stat)\n",
    "print(\"P-value:\", p_value)\n",
    "\n",
    "if p_value < alpha:\n",
    "    print(f'reject null hypothesis which is {null_hypothesis}')\n",
    "else:\n",
    "    print(f'we fail to reject the null hypothesis which is {null_hypothesis}')\n"
   ]
  },
  {
   "cell_type": "markdown",
   "id": "21d1e365",
   "metadata": {},
   "source": [
    "Question 10: One-sample z-test on Student Performance dataset Task: Test if the mean writing score is equal to 70 (assume population std = 15).\n",
    "\n",
    "Fill in: Perform one-sample z-test\n",
    "Q10: Is the mean writing score significantly different from 70? (Answer: p < 0.05, so yes/no) "
   ]
  },
  {
   "cell_type": "code",
   "execution_count": 60,
   "id": "25665c7d",
   "metadata": {},
   "outputs": [
    {
     "name": "stdout",
     "output_type": "stream",
     "text": [
      "2.0432999838460062e-05\n",
      "Z-score: -4.1025282177917735\n",
      "P-value: 2.0432999838460062e-05\n",
      "reject null hypothesis which is the mean writting score is equal to 70\n"
     ]
    }
   ],
   "source": [
    "alternative_hypothesis = ('the mean writting score is significantly different from 70')\n",
    "null_hypothesis = ('the mean writting score is equal to 70')\n",
    "\n",
    " #Extract writing scores\n",
    "writing_scores = students['writing score']\n",
    "\n",
    "# Calculate sample mean and size\n",
    "sample_mean = writing_scores.mean()\n",
    "n = len(writing_scores)#calculating the sample size\n",
    "pop_std = 15  # Given population standard deviation\n",
    "\n",
    "# Compute z-score\n",
    "z = (sample_mean - 70) / (pop_std / np.sqrt(n))\n",
    "\n",
    "p_value = norm.cdf(z)\n",
    "print(p_value)\n",
    "\n",
    "print(\"Z-score:\", z)\n",
    "print(\"P-value:\", p_value)\n",
    "\n",
    "if p_value < alpha:\n",
    "    print(f'reject null hypothesis which is {null_hypothesis}')\n",
    "else:\n",
    "    print(f'we fail to reject the null hypothesis which is {null_hypothesis}')"
   ]
  },
  {
   "cell_type": "markdown",
   "id": "3d63c90c",
   "metadata": {},
   "source": [
    "Question 11: Two-sample t-test on Student Performance dataset Task: Compare math scores of male vs. female students. male_math = students[students['gender'] == 'male']['math score'] female_math = students[students['gender'] == 'female']['math score']\n",
    "\n",
    "Fill in: Perform two-sample t-test\n",
    "Q11: Are math scores significantly different between genders? (Answer: p < 0.05, so yes/no) "
   ]
  },
  {
   "cell_type": "code",
   "execution_count": null,
   "id": "54d9f947",
   "metadata": {},
   "outputs": [
    {
     "name": "stdout",
     "output_type": "stream",
     "text": [
      "t-statistic: 5.383245869828983\n",
      "p-value: 9.120185549328822e-08\n",
      "reject null hypothesis which is math scores are not significantly different by gender\n"
     ]
    }
   ],
   "source": [
    "alternative_hypothesis = \"math scores are significantly different by gender\"\n",
    "null_hypothesis = \"math scores are not significantly different by gender\"\n",
    "\n",
    "male_math = students[students['gender'] == 'male']['math score']\n",
    "female_math = students[students['gender'] == 'female']['math score']\n",
    "\n",
    "# Perform two-sample t-test (assume equal variances)\n",
    "t_stat, p_value = stats.ttest_ind(male_math,female_math, equal_var=True)\n",
    "print(\"t-statistic:\", t_stat)\n",
    "print(\"p-value:\", p_value)\n",
    "\n",
    "if p_value < alpha:\n",
    "    print(f'reject null hypothesis which is {null_hypothesis}')\n",
    "else:\n",
    "    print(f'we fail to reject the null hypothesis which is{null_hypothesis}')"
   ]
  },
  {
   "cell_type": "markdown",
   "id": "e4be89bf",
   "metadata": {},
   "source": [
    "Question 12: One-way ANOVA on Student Performance dataset Task: Test if math scores differ across ethnic groups (race/ethnicity).\n",
    "\n",
    "Fill in: Perform one-way ANOVA\n",
    "Q12: Is there a significant difference in math scores across ethnic groups? (Answer: p < 0.05, so yes/no)"
   ]
  },
  {
   "cell_type": "code",
   "execution_count": null,
   "id": "0ab7b54a",
   "metadata": {},
   "outputs": [
    {
     "name": "stdout",
     "output_type": "stream",
     "text": [
      "F-statistic: 4.6599225222506835\n",
      "p-value: 0.0030804403240573554\n",
      "Reject the null hypothesis which is There is no significant difference in math scores across ethnic groups \n"
     ]
    }
   ],
   "source": [
    "alternative_hypothesis = 'There is a significant difference in math scores across ethnic groups'\n",
    "null_hypothesis = 'There is no significant difference in math scores across ethnic groups'\n",
    "\n",
    "groupA_math = students[students['race/ethnicity'] == 'group A']['math score']\n",
    "groupB_math = students[students['race/ethnicity'] == 'group B']['math score']\n",
    "groupC_math = students[students['race/ethnicity'] == 'group C']['math score']\n",
    "groupD_math = students[students['race/ethnicity'] == 'group D']['math score']\n",
    "f_stat, p_value = f_oneway(groupA_math,groupB_math,groupC_math,groupD_math)\n",
    "print(\"F-statistic:\", f_stat)\n",
    "print(\"p-value:\", p_value)\n",
    "\n",
    "if p_value < 0.05:\n",
    "    print(f'Reject the null hypothesis which is {null_hypothesis} ')\n",
    "else:\n",
    "    print(f'Fail to reject the null hypothesis which is {null_hypothesis}')\n"
   ]
  },
  {
   "cell_type": "markdown",
   "id": "e492e3d2",
   "metadata": {},
   "source": [
    "Question 13: Chi-square test on Student Performance dataset Task: Test if gender is independent of test preparation course completion. contingency_table = pd.crosstab(students['gender'], students['test preparation course'])\n",
    "\n",
    "Fill in: Perform chi-square test\n",
    "Q13: Is gender independent of test preparation? (Answer: p < 0.05, so yes/no) "
   ]
  },
  {
   "cell_type": "code",
   "execution_count": null,
   "id": "b3047ea1",
   "metadata": {},
   "outputs": [
    {
     "name": "stdout",
     "output_type": "stream",
     "text": [
      "Chi-square Statistic: 0.015529201882465888\n",
      "Degrees of Freedom: 1\n",
      "Expected Frequencies:\n",
      " [[185.444 332.556]\n",
      " [172.556 309.444]]\n",
      "P-value: 0.9008273880804724\n",
      "Fail to reject the null hypothesis which There is no significant relationship between gender and test preparation\n"
     ]
    }
   ],
   "source": [
    "alternative_hypothesis = 'There is a significant relationship between gender and test preparation'\n",
    "null_hypothesis = 'There is no significant relationship between gender and test preparation'\n",
    "\n",
    "contingency_table_students = pd.crosstab(students['gender'], students['test preparation course'])\n",
    "##chi square test of independence\n",
    "chi2, p, dof, expected = chi2_contingency(contingency_table_students)\n",
    "print(\"Chi-square Statistic:\", chi2)\n",
    "print(\"Degrees of Freedom:\", dof)\n",
    "print(\"Expected Frequencies:\\n\", expected)\n",
    "print(\"P-value:\", p)\n",
    "\n",
    "\n",
    "if p < 0.05:\n",
    "    print(f'Reject the null hypothesis which is {null_hypothesis} ')\n",
    "else:\n",
    "    print(f'Fail to reject the null hypothesis which {null_hypothesis}')\n"
   ]
  },
  {
   "cell_type": "markdown",
   "id": "fe85ab26",
   "metadata": {},
   "source": [
    "Question 14: One-sample t-test on Iris dataset Task: Test if the mean petal width of Iris-virginica is equal to 2.0. virginica_petal_width = iris[iris['Species'] == 'Iris-virginica']['PetalWidthCm']\n",
    "\n",
    "Fill in: Perform one-sample t-test\n",
    "Q14: Is the mean petal width significantly different from 2.0? (Answer: p < 0.05, so yes/no)"
   ]
  },
  {
   "cell_type": "code",
   "execution_count": null,
   "id": "c9ffd473",
   "metadata": {},
   "outputs": [
    {
     "name": "stdout",
     "output_type": "stream",
     "text": [
      "0.12036212238318053\n",
      "0.9046884777690936\n",
      "we fail to reject the null hypothesis which isthe mean petal width for virginica is equal to 2.0\n"
     ]
    }
   ],
   "source": [
    "alternative_hypothesis = \"the mean petal width for virginica is not 2.0\"\n",
    "null_hypothesis = \"the mean petal width for virginica is equal to 2.0\"\n",
    "\n",
    "##iris\n",
    "virginica_petal_width = iris[iris['Species'] == 'Iris-virginica']['PetalWidthCm']\n",
    "alpha = 0.05,\n",
    "n = count\n",
    "mu = 5.0\n",
    "\n",
    "t_stats, p_value = ttest_1samp(setosa_sepal_length,mu)\n",
    "print(t_stats)\n",
    "print(p_value)\n",
    "\n",
    "if p_value < alpha:\n",
    "    print(f'reject null hypothesis which is {null_hypothesis}')\n",
    "else:\n",
    "    print(f'we fail to reject the null hypothesis which is{null_hypothesis}')"
   ]
  },
  {
   "cell_type": "markdown",
   "id": "caf9edd9",
   "metadata": {},
   "source": [
    "Question 15: Two-sample t-test on Titanic dataset Task: Compare fare paid by survivors vs. non-survivors. survivor_fare = titanic[titanic['Survived'] == 1]['Fare'].dropna() nonsurvivor_fare = titanic[titanic['Survived'] == 0]['Fare'].dropna()\n",
    "\n",
    "Fill in: Perform two-sample t-test (assume unequal variances)\n",
    "Q15: Are fares significantly different between survivors and non-survivors? (Answer: p < 0.05, so yes/no) "
   ]
  },
  {
   "cell_type": "code",
   "execution_count": null,
   "id": "8ee64d38",
   "metadata": {},
   "outputs": [
    {
     "name": "stdout",
     "output_type": "stream",
     "text": [
      "t-statistic: 3.4478682983060884\n",
      "p-value: 0.0006845156351814127\n",
      "reject null hypothesis which is fares are not significantly different between survivors and non-survivors\n"
     ]
    }
   ],
   "source": [
    "alternative_hypothesis = \"fares are significantly different between survivors and non-survivors\"\n",
    "null_hypothesis = \"fares are not significantly different between survivors and non-survivors\"\n",
    "\n",
    "survivor_fare = titanic[titanic['Survived'] == 1]['Fare'].dropna()\n",
    "nonsurvivor_fare = titanic[titanic['Survived'] == 0]['Fare'].dropna()\n",
    "# Perform two-sample t-test (assume unequal variances)\n",
    "t_stat, p_value = stats.ttest_ind(survivor_fare,nonsurvivor_fare, equal_var=False)\n",
    "print(\"t-statistic:\", t_stat)\n",
    "print(\"p-value:\", p_value)\n",
    "\n",
    "if p_value < alpha:\n",
    "    print(f'reject null hypothesis which is {null_hypothesis}')\n",
    "else:\n",
    "    print(f'we fail to reject the null hypothesis which is{null_hypothesis}')"
   ]
  },
  {
   "cell_type": "markdown",
   "id": "b416982e",
   "metadata": {},
   "source": [
    "Question 16: One-way ANOVA on Iris dataset Task: Test if sepal length differs across Iris species.\n",
    "\n",
    "Fill in: Perform one-way ANOVA\n",
    "Q16: Is there a significant difference in sepal length across species? (Answer: p < 0.05, so yes/no) "
   ]
  },
  {
   "cell_type": "code",
   "execution_count": 53,
   "id": "de11f823",
   "metadata": {},
   "outputs": [
    {
     "name": "stdout",
     "output_type": "stream",
     "text": [
      "F-statistic: nan\n",
      "p-value: nan\n",
      "Fail to reject the null hypothesis which is There is no significant difference in sepal legnth across species\n"
     ]
    }
   ],
   "source": [
    "alternative_hypothesis = 'There is a significant difference in sepal legnth across species'\n",
    "null_hypothesis = 'There is no significant difference in sepal legnth across species'\n",
    "\n",
    "setosa_sepal_legnth = iris[iris['Species'] == 'Iris-setosa']['SepalLengthCm'] \n",
    "versicolor_sepal_legnth = iris[iris['Species'] == 'Iris-versicolor']['SepalLengthCm']\n",
    "virginica_sepal_legnth = iris[iris['Species'] == 'Iris-virginica']['SepalLengthCm']\n",
    "print(\"F-statistic:\", f_stat)\n",
    "print(\"p-value:\", p_value)\n",
    "\n",
    "if p_value < 0.05:\n",
    "    print(f'Reject the null hypothesis which is {null_hypothesis} ')\n",
    "else:\n",
    "    print(f'Fail to reject the null hypothesis which is {null_hypothesis}')"
   ]
  },
  {
   "cell_type": "markdown",
   "id": "7e37ce24",
   "metadata": {},
   "source": [
    "Question 17: Chi-square test on Titanic dataset Task: Test if embarkation port (Embarked) is independent of passenger class. contingency_table = pd.crosstab(titanic['Embarked'], titanic['Pclass'])\n",
    "\n",
    "Fill in: Perform chi-square test\n",
    "Q17: Is embarkation port independent of passenger class? (Answer: p < 0.05, so yes/no)"
   ]
  },
  {
   "cell_type": "code",
   "execution_count": null,
   "id": "e7c1dbbc",
   "metadata": {},
   "outputs": [
    {
     "name": "stdout",
     "output_type": "stream",
     "text": [
      "Chi-square Statistic: 82.83186678873668\n",
      "Degrees of Freedom: 4\n",
      "Expected Frequencies:\n",
      " [[ 26.11004785  22.6937799   53.19617225]\n",
      " [ 11.77511962  10.23444976  23.99043062]\n",
      " [ 69.11483254  60.07177033 140.81339713]]\n",
      "P-value: 4.373384811850251e-17\n",
      "Reject the null hypothesis which is There is no significant relationship between embarkation port and passenger class  \n"
     ]
    }
   ],
   "source": [
    "alternative_hypothesis = 'There is a significant relationship between embarkation port and passenger class'\n",
    "null_hypothesis = 'There is no significant relationship between embarkation port and passenger class '\n",
    "\n",
    "contingency_table = pd.crosstab(titanic['Embarked'], titanic['Pclass'])\n",
    "\n",
    "##chi square test of independence\n",
    "chi2, p, dof, expected = chi2_contingency(contingency_table)\n",
    "print(\"Chi-square Statistic:\", chi2)\n",
    "print(\"Degrees of Freedom:\", dof)\n",
    "print(\"Expected Frequencies:\\n\", expected)\n",
    "print(\"P-value:\", p)\n",
    "\n",
    "\n",
    "if p < 0.05:\n",
    "    print(f'Reject the null hypothesis which is {null_hypothesis} ')\n",
    "else:\n",
    "    print(f'Fail to reject the null hypothesis which {null_hypothesis}')\n"
   ]
  },
  {
   "cell_type": "markdown",
   "id": "3f86bad1",
   "metadata": {},
   "source": [
    "Question 18: One-sample z-test on Student Performance dataset Task: Test if the mean math score is equal to 65 (assume population std = 15).\n",
    "\n",
    "Fill in: Perform one-sample z-test\n",
    "Q18: Is the mean math score significantly different from 65? (Answer: p < 0.05, so yes/no)"
   ]
  },
  {
   "cell_type": "code",
   "execution_count": 59,
   "id": "3d271d1a",
   "metadata": {},
   "outputs": [
    {
     "name": "stdout",
     "output_type": "stream",
     "text": [
      "2.2958135812822404\n",
      "0.9891567287174134\n",
      "we fail to reject the null hypothesis which is mean math scores is equal to 65\n"
     ]
    }
   ],
   "source": [
    "alternative_hypothesis = 'mean math scores is equal not to 65'\n",
    "null_hypothesis = 'mean math scores is equal to 65'\n",
    "\n",
    "math_scores = students['math score'].dropna()\n",
    "\n",
    "x_bar = math_scores.mean() #sample mean\n",
    "n = len(math_scores) ##number of students\n",
    "sigma = 15 #sd of population\n",
    "mu = 65 #population mean\n",
    "alpha = 0.05\n",
    "z = (x_bar - mu)/(sigma/np.sqrt(n))\n",
    "print(z)\n",
    "\n",
    "p_value = norm.cdf(z)\n",
    "print(p_value)\n",
    "if p_value <alpha:\n",
    "    print(f'reject null hypothesis which is {null_hypothesis}')\n",
    "else:\n",
    "    print(f'we fail to reject the null hypothesis which is {null_hypothesis}')\n"
   ]
  },
  {
   "cell_type": "markdown",
   "id": "fabee815",
   "metadata": {},
   "source": [
    "Question 19: Paired t-test on Student Performance dataset Task: Test if reading score and writing score differ for the same students.\n",
    "\n",
    "Fill in: Perform paired t-test\n",
    "Q19: Are reading and writing scores significantly different? (Answer: p < 0.05, so yes/no) "
   ]
  },
  {
   "cell_type": "code",
   "execution_count": 58,
   "id": "471067af",
   "metadata": {},
   "outputs": [
    {
     "name": "stdout",
     "output_type": "stream",
     "text": [
      "T-statistic: -7.787445512854921\n",
      "P-value: 1.7054750946105386e-14\n",
      "reject null hypothesis which is reading and writing scores are not signigicantly different\n"
     ]
    }
   ],
   "source": [
    "alternative_hypothesis = \"reading and writing scores are signigicantly different\"\n",
    "null_hypothesis = \"reading and writing scores are not signigicantly different\"\n",
    "\n",
    "writing_scores = students['writing score']\n",
    "reading_scores = students['reading score']\n",
    "\n",
    "# Perform paired t-test\n",
    "t_stat, p_value = ttest_rel(writing_scores, reading_scores)\n",
    "\n",
    "print(\"T-statistic:\", t_stat)\n",
    "print(\"P-value:\", p_value)\n",
    "\n",
    "\n",
    "if p_value < alpha:\n",
    "    print(f'reject null hypothesis which is {null_hypothesis}')\n",
    "else:\n",
    "    print(f'we fail to reject the null hypothesis which is{null_hypothesis}')"
   ]
  },
  {
   "cell_type": "markdown",
   "id": "b9392dba",
   "metadata": {},
   "source": [
    "Question 20: Two-sample t-test on Iris dataset Task: Compare petal length of Iris-versicolor and Iris-virginica. versicolor_petal_length = iris[iris['Species'] == 'Iris-versicolor']['PetalLengthCm'] virginica_petal_length = iris[iris['Species'] == 'Iris-virginica']['PetalLengthCm']\n",
    "\n",
    "Fill in: Perform two-sample t-test\n",
    "Q20: Are petal lengths significantly different? (Answer: p < 0.05, so yes/no)"
   ]
  },
  {
   "cell_type": "code",
   "execution_count": null,
   "id": "a2623f73",
   "metadata": {},
   "outputs": [
    {
     "name": "stdout",
     "output_type": "stream",
     "text": [
      "t-statistic: -12.603779441384985\n",
      "p-value: 3.1788195478061495e-22\n",
      "reject null hypothesis which is petal legnth of Iris-versicolor and Iris-virginica are significantly different \n"
     ]
    }
   ],
   "source": [
    "alternative_hypothesis = \"petal legnth of Iris-versicolor and Iris-virginica are significantly different \"\n",
    "null_hypothesis = \"petal legnth of Iris-versicolor and Iris-virginica are significantly different \"\n",
    "\n",
    "versicolor_petal_length = iris[iris['Species'] == 'Iris-versicolor']['PetalLengthCm'] \n",
    "virginica_petal_length = iris[iris['Species'] == 'Iris-virginica']['PetalLengthCm']\n",
    "\n",
    "# Perform two-sample t-test (assume equal variances)\n",
    "t_stat, p_value = stats.ttest_ind(versicolor_petal_length,virginica_petal_length, equal_var=True)\n",
    "print(\"t-statistic:\", t_stat)\n",
    "print(\"p-value:\", p_value)\n",
    "\n",
    "if p_value < alpha:\n",
    "    print(f'reject null hypothesis which is {null_hypothesis}')\n",
    "else:\n",
    "    print(f'we fail to reject the null hypothesis which is{null_hypothesis}')"
   ]
  },
  {
   "cell_type": "markdown",
   "id": "17951e94",
   "metadata": {},
   "source": [
    " Question 21: One-way ANOVA on Student Performance dataset Task: Test if reading scores differ across test preparation course status.\n",
    "\n",
    "Fill in: Perform one-way ANOVA\n",
    "Q21: Is there a significant difference in reading scores by test preparation? (Answer: p < 0.05, so yes/no) "
   ]
  },
  {
   "cell_type": "code",
   "execution_count": 55,
   "id": "f7f378c4",
   "metadata": {},
   "outputs": [
    {
     "name": "stdout",
     "output_type": "stream",
     "text": [
      "F-statistic: 61.96308687030073\n",
      "p-value: 9.081783336895556e-15\n",
      "Reject the null hypothesis which is There is no significant difference in reading scores by test preparation \n"
     ]
    }
   ],
   "source": [
    "alternative_hypothesis = 'There is a significant difference in reading scores by test preparation'\n",
    "null_hypothesis = 'There is no significant difference in reading scores by test preparation'\n",
    "\n",
    "prep_reading = students[students['test preparation course'] == 'completed']['reading score']\n",
    "noprep_reading = students[students['test preparation course'] == 'none']['reading score']\n",
    "f_stat, p_value = f_oneway(prep_reading,noprep_reading)\n",
    "print(\"F-statistic:\", f_stat)\n",
    "print(\"p-value:\", p_value)\n",
    "\n",
    "if p_value < 0.05:\n",
    "    print(f'Reject the null hypothesis which is {null_hypothesis} ')\n",
    "else:\n",
    "    print(f'Fail to reject the null hypothesis which is {null_hypothesis}')"
   ]
  },
  {
   "cell_type": "markdown",
   "id": "338b2bbd",
   "metadata": {},
   "source": [
    "Question 22: Chi-square test on Student Performance dataset Task: Test if parental level of education is independent of test preparation course. contingency_table = pd.crosstab(students['parental level of education'], students['test preparation course'])\n",
    "\n",
    "Fill in: Perform chi-square test\n",
    "Q22: Is parental education independent of test preparation? (Answer: p < 0.05, so yes/no"
   ]
  },
  {
   "cell_type": "code",
   "execution_count": null,
   "id": "61bd504c",
   "metadata": {},
   "outputs": [
    {
     "name": "stdout",
     "output_type": "stream",
     "text": [
      "Chi-square Statistic: 9.54407054307069\n",
      "Degrees of Freedom: 5\n",
      "Expected Frequencies:\n",
      " [[ 79.476 142.524]\n",
      " [ 42.244  75.756]\n",
      " [ 70.168 125.832]\n",
      " [ 21.122  37.878]\n",
      " [ 80.908 145.092]\n",
      " [ 64.082 114.918]]\n",
      "P-value: 0.08923388625809343\n",
      "Fail to reject the null hypothesis which There is no significant relationship between parental education and test preparation \n"
     ]
    }
   ],
   "source": [
    "alternative_hypothesis = 'There is a significant relationship between parental education and test preparation'\n",
    "null_hypothesis = 'There is no significant relationship between parental education and test preparation '\n",
    "\n",
    "contingency_table = pd.crosstab(students['parental level of education'], students['test preparation course'])\n",
    "\n",
    "##chi square test of independence\n",
    "chi2, p, dof, expected = chi2_contingency(contingency_table)\n",
    "print(\"Chi-square Statistic:\", chi2)\n",
    "print(\"Degrees of Freedom:\", dof)\n",
    "print(\"Expected Frequencies:\\n\", expected)\n",
    "print(\"P-value:\", p)\n",
    "\n",
    "\n",
    "if p < 0.05:\n",
    "    print(f'Reject the null hypothesis which is {null_hypothesis} ')\n",
    "else:\n",
    "    print(f'Fail to reject the null hypothesis which {null_hypothesis}')\n"
   ]
  },
  {
   "cell_type": "markdown",
   "id": "76af8aee",
   "metadata": {},
   "source": [
    " Question 23: One-sample t-test on Titanic dataset Task: Test if the mean fare is equal to 30.\n",
    "\n",
    "Fill in: Perform one-sample t-test\n",
    "Q23: Is the mean fare significantly different from 30? (Answer: p < 0.05, so yes/no) Question"
   ]
  },
  {
   "cell_type": "code",
   "execution_count": 54,
   "id": "f20d2360",
   "metadata": {},
   "outputs": [
    {
     "name": "stdout",
     "output_type": "stream",
     "text": [
      "2.0553643800991495\n",
      "0.04046758014596787\n",
      "reject null hypothesis which is the mean fare is equal 30\n"
     ]
    }
   ],
   "source": [
    "alternative_hypothesis = \"the mean fare  is not 30\"\n",
    "null_hypothesis = \"the mean fare is equal 30\"\n",
    "\n",
    "fare = titanic['Fare'].dropna()\n",
    "alpha = 0.05,\n",
    "n = count\n",
    "mu = 30\n",
    "\n",
    "t_stats, p_value = ttest_1samp(fare,mu)\n",
    "print(t_stats)\n",
    "print(p_value)\n",
    "\n",
    "if p_value < alpha:\n",
    "    print(f'reject null hypothesis which is {null_hypothesis}')\n",
    "else:\n",
    "    print(f'we fail to reject the null hypothesis which is{null_hypothesis}')\n"
   ]
  },
  {
   "cell_type": "markdown",
   "id": "86843073",
   "metadata": {},
   "source": [
    "24: Two-sample t-test on Student Performance dataset Task: Compare writing scores of students with vs. without test preparation. prep_writing = students[students['test preparation course'] == 'completed']['writing score'] noprep_writing = students[students['test preparation course'] == 'none']['writing score']\n",
    "\n",
    "Fill in: Perform two-sample t-test\n",
    "Q24: Are writing scores significantly different by test preparation? (Answer: p < 0.05, so yes/no)"
   ]
  },
  {
   "cell_type": "code",
   "execution_count": null,
   "id": "8477e9cb",
   "metadata": {},
   "outputs": [
    {
     "name": "stdout",
     "output_type": "stream",
     "text": [
      "t-statistic: 10.409173436808748\n",
      "p-value: 3.68529173524572e-24\n",
      "reject null hypothesis which is writing scores are not significantly different by test preparation\n"
     ]
    }
   ],
   "source": [
    "alternative_hypothesis = \"writing scores are significantly different by test preparation\"\n",
    "null_hypothesis = \"writing scores are not significantly different by test preparation\"\n",
    "\n",
    "prep_writing = students[students['test preparation course'] == 'completed']['writing score']\n",
    "noprep_writing = students[students['test preparation course'] == 'none']['writing score']\n",
    "# Perform two-sample t-test (assume equal variances)\n",
    "t_stat, p_value = stats.ttest_ind(prep_writing,noprep_writing, equal_var=True)\n",
    "print(\"t-statistic:\", t_stat)\n",
    "print(\"p-value:\", p_value)\n",
    "\n",
    "if p_value < alpha:\n",
    "    print(f'reject null hypothesis which is {null_hypothesis}')\n",
    "else:\n",
    "    print(f'we fail to reject the null hypothesis which is{null_hypothesis}')"
   ]
  },
  {
   "cell_type": "markdown",
   "id": "737e592b",
   "metadata": {},
   "source": [
    "Question 25: One-way ANOVA on Titanic dataset Task: Test if age differs across embarkation ports (Embarked).\n",
    "\n",
    "Fill in: Perform one-way ANOVA\n",
    "Q25: Is there a significant difference in age across embarkation ports? (Answer: p < 0.05, so yes/no) End of Test To complete:\n",
    "\n",
    "Fill in the missing code for all questions. For each question, perform the specified statistical test and interpret the p-value to determine significance (alpha = 0.05). Submit your completed code and answers to the significance questions."
   ]
  },
  {
   "cell_type": "code",
   "execution_count": null,
   "id": "3485b3e3",
   "metadata": {},
   "outputs": [
    {
     "name": "stdout",
     "output_type": "stream",
     "text": [
      "F-statistic: nan\n",
      "p-value: nan\n",
      "Fail to reject the null hypothesis which is There is no significant difference in age across embarkation ports\n"
     ]
    },
    {
     "name": "stderr",
     "output_type": "stream",
     "text": [
      "c:\\Users\\hp\\anaconda3\\Lib\\site-packages\\scipy\\stats\\_stats_py.py:4102: DegenerateDataWarning: at least one input has length 0\n",
      "  if _f_oneway_is_too_small(samples):\n"
     ]
    }
   ],
   "source": [
    "alternative_hypothesis = 'There is a significant difference in age across embarkation ports'\n",
    "null_hypothesis = 'There is no significant difference in age across embarkation ports'\n",
    "\n",
    "port_s_age = titanic[titanic['Embarked'] == 's']['Age'].dropna()\n",
    "port_Q_age = titanic[titanic['Embarked'] == 'Q']['Age'].dropna()\n",
    "port_C_age = titanic[titanic['Embarked'] == 'C']['Age'].dropna()\n",
    "f_stat, p_value = f_oneway(port_s_age,port_Q_age,port_C_age)\n",
    "print(\"F-statistic:\", f_stat)\n",
    "print(\"p-value:\", p_value)\n",
    "\n",
    "if p_value < 0.05:\n",
    "    print(f'Reject the null hypothesis which is {null_hypothesis} ')\n",
    "else:\n",
    "    print(f'Fail to reject the null hypothesis which is {null_hypothesis}')\n"
   ]
  }
 ],
 "metadata": {
  "kernelspec": {
   "display_name": "base",
   "language": "python",
   "name": "python3"
  },
  "language_info": {
   "codemirror_mode": {
    "name": "ipython",
    "version": 3
   },
   "file_extension": ".py",
   "mimetype": "text/x-python",
   "name": "python",
   "nbconvert_exporter": "python",
   "pygments_lexer": "ipython3",
   "version": "3.12.7"
  }
 },
 "nbformat": 4,
 "nbformat_minor": 5
}
